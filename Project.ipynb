{
 "cells": [
  {
   "cell_type": "markdown",
   "id": "5fd72452",
   "metadata": {},
   "source": [
    "First, I import the required libraries to perform the data analysis."
   ]
  },
  {
   "cell_type": "code",
   "execution_count": 2,
   "id": "c06ea0f6",
   "metadata": {},
   "outputs": [],
   "source": [
    "import numpy as np\n",
    "import pandas as pd\n",
    "\n",
    "#visualisation\n",
    "import matplotlib.pyplot as plt  \n",
    "import seaborn as sns\n",
    "\n",
    "#ignore warnings from the notebook\n",
    "import warnings\n",
    "warnings.filterwarnings(\"ignore\")"
   ]
  },
  {
   "cell_type": "markdown",
   "id": "14ccdb18",
   "metadata": {},
   "source": [
    "Now, I will get the csv file and load it into a dataframe."
   ]
  },
  {
   "cell_type": "code",
   "execution_count": 4,
   "id": "88aaf6c2",
   "metadata": {},
   "outputs": [
    {
     "data": {
      "text/html": [
       "<div>\n",
       "<style scoped>\n",
       "    .dataframe tbody tr th:only-of-type {\n",
       "        vertical-align: middle;\n",
       "    }\n",
       "\n",
       "    .dataframe tbody tr th {\n",
       "        vertical-align: top;\n",
       "    }\n",
       "\n",
       "    .dataframe thead th {\n",
       "        text-align: right;\n",
       "    }\n",
       "</style>\n",
       "<table border=\"1\" class=\"dataframe\">\n",
       "  <thead>\n",
       "    <tr style=\"text-align: right;\">\n",
       "      <th></th>\n",
       "      <th>Age</th>\n",
       "      <th>Sex</th>\n",
       "      <th>Race</th>\n",
       "      <th>Marital status?</th>\n",
       "      <th>Education</th>\n",
       "      <th>Employement</th>\n",
       "      <th>Incomes</th>\n",
       "      <th>How many books did you read during last 12months?</th>\n",
       "      <th>Read any printed books during last 12months?</th>\n",
       "      <th>Read any audiobooks during last 12months?</th>\n",
       "      <th>Read any e-books during last 12months?</th>\n",
       "      <th>Last book you read, you…</th>\n",
       "      <th>Do you happen to read any daily news or newspapers?</th>\n",
       "      <th>Do you happen to read any magazines or journals?</th>\n",
       "    </tr>\n",
       "  </thead>\n",
       "  <tbody>\n",
       "    <tr>\n",
       "      <th>0</th>\n",
       "      <td>66</td>\n",
       "      <td>Male</td>\n",
       "      <td>Refused</td>\n",
       "      <td>Divorced</td>\n",
       "      <td>College graduate</td>\n",
       "      <td>Retired</td>\n",
       "      <td>$20,000 to under $30,000</td>\n",
       "      <td>97</td>\n",
       "      <td>Yes</td>\n",
       "      <td>No</td>\n",
       "      <td>Yes</td>\n",
       "      <td>Purchased the book</td>\n",
       "      <td>No</td>\n",
       "      <td>Yes</td>\n",
       "    </tr>\n",
       "    <tr>\n",
       "      <th>1</th>\n",
       "      <td>46</td>\n",
       "      <td>Male</td>\n",
       "      <td>Native American/American Indian</td>\n",
       "      <td>Married</td>\n",
       "      <td>High school graduate</td>\n",
       "      <td>Employed full-time</td>\n",
       "      <td>Less than $10,000</td>\n",
       "      <td>97</td>\n",
       "      <td>Yes</td>\n",
       "      <td>Yes</td>\n",
       "      <td>Yes</td>\n",
       "      <td>Purchased the book</td>\n",
       "      <td>Yes</td>\n",
       "      <td>Yes</td>\n",
       "    </tr>\n",
       "    <tr>\n",
       "      <th>2</th>\n",
       "      <td>32</td>\n",
       "      <td>Male</td>\n",
       "      <td>Mixed race</td>\n",
       "      <td>Never been married</td>\n",
       "      <td>High school graduate</td>\n",
       "      <td>Employed full-time</td>\n",
       "      <td>Less than $10,000</td>\n",
       "      <td>97</td>\n",
       "      <td>No</td>\n",
       "      <td>Yes</td>\n",
       "      <td>Yes</td>\n",
       "      <td>Borrowed the book from a friend or family member</td>\n",
       "      <td>Yes</td>\n",
       "      <td>Yes</td>\n",
       "    </tr>\n",
       "    <tr>\n",
       "      <th>3</th>\n",
       "      <td>27</td>\n",
       "      <td>Male</td>\n",
       "      <td>Mixed race</td>\n",
       "      <td>Married</td>\n",
       "      <td>High school graduate</td>\n",
       "      <td>Employed full-time</td>\n",
       "      <td>$40,000 to under $50,000</td>\n",
       "      <td>97</td>\n",
       "      <td>Yes</td>\n",
       "      <td>No</td>\n",
       "      <td>Yes</td>\n",
       "      <td>Borrowed the book from a library</td>\n",
       "      <td>Yes</td>\n",
       "      <td>No</td>\n",
       "    </tr>\n",
       "    <tr>\n",
       "      <th>4</th>\n",
       "      <td>16</td>\n",
       "      <td>Female</td>\n",
       "      <td>Mixed race</td>\n",
       "      <td>Never been married</td>\n",
       "      <td>High school incomplete</td>\n",
       "      <td>Employed part-time</td>\n",
       "      <td>$10,000 to under $20,000</td>\n",
       "      <td>97</td>\n",
       "      <td>Yes</td>\n",
       "      <td>Yes</td>\n",
       "      <td>No</td>\n",
       "      <td>Purchased the book</td>\n",
       "      <td>Yes</td>\n",
       "      <td>No</td>\n",
       "    </tr>\n",
       "  </tbody>\n",
       "</table>\n",
       "</div>"
      ],
      "text/plain": [
       "   Age     Sex                             Race     Marital status?  \\\n",
       "0   66    Male                          Refused            Divorced   \n",
       "1   46    Male  Native American/American Indian             Married   \n",
       "2   32    Male                       Mixed race  Never been married   \n",
       "3   27    Male                       Mixed race             Married   \n",
       "4   16  Female                       Mixed race  Never been married   \n",
       "\n",
       "                Education         Employement                   Incomes  \\\n",
       "0        College graduate             Retired  $20,000 to under $30,000   \n",
       "1    High school graduate  Employed full-time         Less than $10,000   \n",
       "2    High school graduate  Employed full-time         Less than $10,000   \n",
       "3    High school graduate  Employed full-time  $40,000 to under $50,000   \n",
       "4  High school incomplete  Employed part-time  $10,000 to under $20,000   \n",
       "\n",
       "   How many books did you read during last 12months?  \\\n",
       "0                                                 97   \n",
       "1                                                 97   \n",
       "2                                                 97   \n",
       "3                                                 97   \n",
       "4                                                 97   \n",
       "\n",
       "  Read any printed books during last 12months?  \\\n",
       "0                                          Yes   \n",
       "1                                          Yes   \n",
       "2                                           No   \n",
       "3                                          Yes   \n",
       "4                                          Yes   \n",
       "\n",
       "  Read any audiobooks during last 12months?  \\\n",
       "0                                        No   \n",
       "1                                       Yes   \n",
       "2                                       Yes   \n",
       "3                                        No   \n",
       "4                                       Yes   \n",
       "\n",
       "  Read any e-books during last 12months?  \\\n",
       "0                                    Yes   \n",
       "1                                    Yes   \n",
       "2                                    Yes   \n",
       "3                                    Yes   \n",
       "4                                     No   \n",
       "\n",
       "                           Last book you read, you…  \\\n",
       "0                                Purchased the book   \n",
       "1                                Purchased the book   \n",
       "2  Borrowed the book from a friend or family member   \n",
       "3                  Borrowed the book from a library   \n",
       "4                                Purchased the book   \n",
       "\n",
       "  Do you happen to read any daily news or newspapers?  \\\n",
       "0                                                 No    \n",
       "1                                                Yes    \n",
       "2                                                Yes    \n",
       "3                                                Yes    \n",
       "4                                                Yes    \n",
       "\n",
       "  Do you happen to read any magazines or journals?  \n",
       "0                                              Yes  \n",
       "1                                              Yes  \n",
       "2                                              Yes  \n",
       "3                                               No  \n",
       "4                                               No  "
      ]
     },
     "execution_count": 4,
     "metadata": {},
     "output_type": "execute_result"
    }
   ],
   "source": [
    "df = pd.read_csv(\"reading.csv\")\n",
    "\n",
    "#get the first 5 columns\n",
    "df.head()"
   ]
  },
  {
   "cell_type": "code",
   "execution_count": 3,
   "id": "b2085c4b",
   "metadata": {},
   "outputs": [
    {
     "data": {
      "text/html": [
       "<div>\n",
       "<style scoped>\n",
       "    .dataframe tbody tr th:only-of-type {\n",
       "        vertical-align: middle;\n",
       "    }\n",
       "\n",
       "    .dataframe tbody tr th {\n",
       "        vertical-align: top;\n",
       "    }\n",
       "\n",
       "    .dataframe thead th {\n",
       "        text-align: right;\n",
       "    }\n",
       "</style>\n",
       "<table border=\"1\" class=\"dataframe\">\n",
       "  <thead>\n",
       "    <tr style=\"text-align: right;\">\n",
       "      <th></th>\n",
       "      <th>Age</th>\n",
       "      <th>Sex</th>\n",
       "      <th>Race</th>\n",
       "      <th>Marital status?</th>\n",
       "      <th>Education</th>\n",
       "      <th>Employement</th>\n",
       "      <th>Incomes</th>\n",
       "      <th>How many books did you read during last 12months?</th>\n",
       "      <th>Read any printed books during last 12months?</th>\n",
       "      <th>Read any audiobooks during last 12months?</th>\n",
       "      <th>Read any e-books during last 12months?</th>\n",
       "      <th>Last book you read, you…</th>\n",
       "      <th>Do you happen to read any daily news or newspapers?</th>\n",
       "      <th>Do you happen to read any magazines or journals?</th>\n",
       "    </tr>\n",
       "  </thead>\n",
       "  <tbody>\n",
       "    <tr>\n",
       "      <th>2827</th>\n",
       "      <td>18</td>\n",
       "      <td>Male</td>\n",
       "      <td>White</td>\n",
       "      <td>Never been married</td>\n",
       "      <td>High school graduate</td>\n",
       "      <td>Employed part-time</td>\n",
       "      <td>$75,000 to under $100,000</td>\n",
       "      <td>0</td>\n",
       "      <td>NaN</td>\n",
       "      <td>NaN</td>\n",
       "      <td>NaN</td>\n",
       "      <td>NaN</td>\n",
       "      <td>Yes</td>\n",
       "      <td>Yes</td>\n",
       "    </tr>\n",
       "    <tr>\n",
       "      <th>2828</th>\n",
       "      <td>17</td>\n",
       "      <td>Male</td>\n",
       "      <td>White</td>\n",
       "      <td>Never been married</td>\n",
       "      <td>High school incomplete</td>\n",
       "      <td>Employed part-time</td>\n",
       "      <td>$30,000 to under $40,000</td>\n",
       "      <td>0</td>\n",
       "      <td>NaN</td>\n",
       "      <td>NaN</td>\n",
       "      <td>NaN</td>\n",
       "      <td>NaN</td>\n",
       "      <td>Yes</td>\n",
       "      <td>No</td>\n",
       "    </tr>\n",
       "    <tr>\n",
       "      <th>2829</th>\n",
       "      <td>17</td>\n",
       "      <td>Female</td>\n",
       "      <td>White</td>\n",
       "      <td>Never been married</td>\n",
       "      <td>High school incomplete</td>\n",
       "      <td>Not employed for pay</td>\n",
       "      <td>9$100,000 to under $150,000</td>\n",
       "      <td>0</td>\n",
       "      <td>NaN</td>\n",
       "      <td>NaN</td>\n",
       "      <td>NaN</td>\n",
       "      <td>NaN</td>\n",
       "      <td>No</td>\n",
       "      <td>Yes</td>\n",
       "    </tr>\n",
       "    <tr>\n",
       "      <th>2830</th>\n",
       "      <td>16</td>\n",
       "      <td>Male</td>\n",
       "      <td>White</td>\n",
       "      <td>Never been married</td>\n",
       "      <td>High school graduate</td>\n",
       "      <td>Not employed for pay</td>\n",
       "      <td>9$100,000 to under $150,000</td>\n",
       "      <td>0</td>\n",
       "      <td>NaN</td>\n",
       "      <td>NaN</td>\n",
       "      <td>NaN</td>\n",
       "      <td>NaN</td>\n",
       "      <td>No</td>\n",
       "      <td>No</td>\n",
       "    </tr>\n",
       "    <tr>\n",
       "      <th>2831</th>\n",
       "      <td>16</td>\n",
       "      <td>Male</td>\n",
       "      <td>White</td>\n",
       "      <td>Never been married</td>\n",
       "      <td>Don’t know</td>\n",
       "      <td>Not employed for pay</td>\n",
       "      <td>Refused</td>\n",
       "      <td>0</td>\n",
       "      <td>NaN</td>\n",
       "      <td>NaN</td>\n",
       "      <td>NaN</td>\n",
       "      <td>NaN</td>\n",
       "      <td>No</td>\n",
       "      <td>No</td>\n",
       "    </tr>\n",
       "  </tbody>\n",
       "</table>\n",
       "</div>"
      ],
      "text/plain": [
       "      Age     Sex   Race     Marital status?               Education  \\\n",
       "2827   18    Male  White  Never been married    High school graduate   \n",
       "2828   17    Male  White  Never been married  High school incomplete   \n",
       "2829   17  Female  White  Never been married  High school incomplete   \n",
       "2830   16    Male  White  Never been married    High school graduate   \n",
       "2831   16    Male  White  Never been married              Don’t know   \n",
       "\n",
       "               Employement                      Incomes  \\\n",
       "2827    Employed part-time    $75,000 to under $100,000   \n",
       "2828    Employed part-time     $30,000 to under $40,000   \n",
       "2829  Not employed for pay  9$100,000 to under $150,000   \n",
       "2830  Not employed for pay  9$100,000 to under $150,000   \n",
       "2831  Not employed for pay                      Refused   \n",
       "\n",
       "      How many books did you read during last 12months?  \\\n",
       "2827                                                  0   \n",
       "2828                                                  0   \n",
       "2829                                                  0   \n",
       "2830                                                  0   \n",
       "2831                                                  0   \n",
       "\n",
       "     Read any printed books during last 12months?  \\\n",
       "2827                                          NaN   \n",
       "2828                                          NaN   \n",
       "2829                                          NaN   \n",
       "2830                                          NaN   \n",
       "2831                                          NaN   \n",
       "\n",
       "     Read any audiobooks during last 12months?  \\\n",
       "2827                                       NaN   \n",
       "2828                                       NaN   \n",
       "2829                                       NaN   \n",
       "2830                                       NaN   \n",
       "2831                                       NaN   \n",
       "\n",
       "     Read any e-books during last 12months? Last book you read, you…  \\\n",
       "2827                                    NaN                      NaN   \n",
       "2828                                    NaN                      NaN   \n",
       "2829                                    NaN                      NaN   \n",
       "2830                                    NaN                      NaN   \n",
       "2831                                    NaN                      NaN   \n",
       "\n",
       "     Do you happen to read any daily news or newspapers?  \\\n",
       "2827                                                Yes    \n",
       "2828                                                Yes    \n",
       "2829                                                 No    \n",
       "2830                                                 No    \n",
       "2831                                                 No    \n",
       "\n",
       "     Do you happen to read any magazines or journals?  \n",
       "2827                                              Yes  \n",
       "2828                                               No  \n",
       "2829                                              Yes  \n",
       "2830                                               No  \n",
       "2831                                               No  "
      ]
     },
     "execution_count": 3,
     "metadata": {},
     "output_type": "execute_result"
    }
   ],
   "source": [
    "#get the last 5 columns\n",
    "df.tail()"
   ]
  },
  {
   "cell_type": "code",
   "execution_count": 4,
   "id": "84bc652c",
   "metadata": {},
   "outputs": [
    {
     "name": "stdout",
     "output_type": "stream",
     "text": [
      "<class 'pandas.core.frame.DataFrame'>\n",
      "RangeIndex: 2832 entries, 0 to 2831\n",
      "Data columns (total 14 columns):\n",
      " #   Column                                               Non-Null Count  Dtype \n",
      "---  ------                                               --------------  ----- \n",
      " 0   Age                                                  2832 non-null   int64 \n",
      " 1   Sex                                                  2832 non-null   object\n",
      " 2   Race                                                 2832 non-null   object\n",
      " 3   Marital status?                                      2832 non-null   object\n",
      " 4   Education                                            2832 non-null   object\n",
      " 5   Employement                                          2832 non-null   object\n",
      " 6   Incomes                                              2832 non-null   object\n",
      " 7   How many books did you read during last 12months?    2832 non-null   int64 \n",
      " 8   Read any printed books during last 12months?         2442 non-null   object\n",
      " 9   Read any audiobooks during last 12months?            2442 non-null   object\n",
      " 10  Read any e-books during last 12months?               2442 non-null   object\n",
      " 11  Last book you read, you…                             2442 non-null   object\n",
      " 12  Do you happen to read any daily news or newspapers?  2832 non-null   object\n",
      " 13  Do you happen to read any magazines or journals?     2832 non-null   object\n",
      "dtypes: int64(2), object(12)\n",
      "memory usage: 309.9+ KB\n"
     ]
    }
   ],
   "source": [
    "#display the overall information about the data set\n",
    "df.info()"
   ]
  },
  {
   "cell_type": "markdown",
   "id": "ffa6a962",
   "metadata": {},
   "source": [
    "Before doing anything with the data set, I need to clean it. Therefore, I should do the following:\n",
    "\n",
    "- drop duplicate rows\n",
    "- check for null values\n",
    "- check if the data types are appropriate or need to be changed\n",
    "- remove outliers (if appropriate)"
   ]
  },
  {
   "cell_type": "code",
   "execution_count": 5,
   "id": "bb8e800f",
   "metadata": {},
   "outputs": [
    {
     "data": {
      "text/html": [
       "<div>\n",
       "<style scoped>\n",
       "    .dataframe tbody tr th:only-of-type {\n",
       "        vertical-align: middle;\n",
       "    }\n",
       "\n",
       "    .dataframe tbody tr th {\n",
       "        vertical-align: top;\n",
       "    }\n",
       "\n",
       "    .dataframe thead th {\n",
       "        text-align: right;\n",
       "    }\n",
       "</style>\n",
       "<table border=\"1\" class=\"dataframe\">\n",
       "  <thead>\n",
       "    <tr style=\"text-align: right;\">\n",
       "      <th></th>\n",
       "      <th>Age</th>\n",
       "      <th>Sex</th>\n",
       "      <th>Race</th>\n",
       "      <th>Marital status?</th>\n",
       "      <th>Education</th>\n",
       "      <th>Employement</th>\n",
       "      <th>Incomes</th>\n",
       "      <th>How many books did you read during last 12months?</th>\n",
       "      <th>Read any printed books during last 12months?</th>\n",
       "      <th>Read any audiobooks during last 12months?</th>\n",
       "      <th>Read any e-books during last 12months?</th>\n",
       "      <th>Last book you read, you…</th>\n",
       "      <th>Do you happen to read any daily news or newspapers?</th>\n",
       "      <th>Do you happen to read any magazines or journals?</th>\n",
       "    </tr>\n",
       "  </thead>\n",
       "  <tbody>\n",
       "    <tr>\n",
       "      <th>0</th>\n",
       "      <td>66</td>\n",
       "      <td>Male</td>\n",
       "      <td>Refused</td>\n",
       "      <td>Divorced</td>\n",
       "      <td>College graduate</td>\n",
       "      <td>Retired</td>\n",
       "      <td>$20,000 to under $30,000</td>\n",
       "      <td>97</td>\n",
       "      <td>Yes</td>\n",
       "      <td>No</td>\n",
       "      <td>Yes</td>\n",
       "      <td>Purchased the book</td>\n",
       "      <td>No</td>\n",
       "      <td>Yes</td>\n",
       "    </tr>\n",
       "    <tr>\n",
       "      <th>1</th>\n",
       "      <td>46</td>\n",
       "      <td>Male</td>\n",
       "      <td>Native American/American Indian</td>\n",
       "      <td>Married</td>\n",
       "      <td>High school graduate</td>\n",
       "      <td>Employed full-time</td>\n",
       "      <td>Less than $10,000</td>\n",
       "      <td>97</td>\n",
       "      <td>Yes</td>\n",
       "      <td>Yes</td>\n",
       "      <td>Yes</td>\n",
       "      <td>Purchased the book</td>\n",
       "      <td>Yes</td>\n",
       "      <td>Yes</td>\n",
       "    </tr>\n",
       "    <tr>\n",
       "      <th>2</th>\n",
       "      <td>32</td>\n",
       "      <td>Male</td>\n",
       "      <td>Mixed race</td>\n",
       "      <td>Never been married</td>\n",
       "      <td>High school graduate</td>\n",
       "      <td>Employed full-time</td>\n",
       "      <td>Less than $10,000</td>\n",
       "      <td>97</td>\n",
       "      <td>No</td>\n",
       "      <td>Yes</td>\n",
       "      <td>Yes</td>\n",
       "      <td>Borrowed the book from a friend or family member</td>\n",
       "      <td>Yes</td>\n",
       "      <td>Yes</td>\n",
       "    </tr>\n",
       "    <tr>\n",
       "      <th>3</th>\n",
       "      <td>27</td>\n",
       "      <td>Male</td>\n",
       "      <td>Mixed race</td>\n",
       "      <td>Married</td>\n",
       "      <td>High school graduate</td>\n",
       "      <td>Employed full-time</td>\n",
       "      <td>$40,000 to under $50,000</td>\n",
       "      <td>97</td>\n",
       "      <td>Yes</td>\n",
       "      <td>No</td>\n",
       "      <td>Yes</td>\n",
       "      <td>Borrowed the book from a library</td>\n",
       "      <td>Yes</td>\n",
       "      <td>No</td>\n",
       "    </tr>\n",
       "    <tr>\n",
       "      <th>4</th>\n",
       "      <td>16</td>\n",
       "      <td>Female</td>\n",
       "      <td>Mixed race</td>\n",
       "      <td>Never been married</td>\n",
       "      <td>High school incomplete</td>\n",
       "      <td>Employed part-time</td>\n",
       "      <td>$10,000 to under $20,000</td>\n",
       "      <td>97</td>\n",
       "      <td>Yes</td>\n",
       "      <td>Yes</td>\n",
       "      <td>No</td>\n",
       "      <td>Purchased the book</td>\n",
       "      <td>Yes</td>\n",
       "      <td>No</td>\n",
       "    </tr>\n",
       "    <tr>\n",
       "      <th>...</th>\n",
       "      <td>...</td>\n",
       "      <td>...</td>\n",
       "      <td>...</td>\n",
       "      <td>...</td>\n",
       "      <td>...</td>\n",
       "      <td>...</td>\n",
       "      <td>...</td>\n",
       "      <td>...</td>\n",
       "      <td>...</td>\n",
       "      <td>...</td>\n",
       "      <td>...</td>\n",
       "      <td>...</td>\n",
       "      <td>...</td>\n",
       "      <td>...</td>\n",
       "    </tr>\n",
       "    <tr>\n",
       "      <th>2827</th>\n",
       "      <td>18</td>\n",
       "      <td>Male</td>\n",
       "      <td>White</td>\n",
       "      <td>Never been married</td>\n",
       "      <td>High school graduate</td>\n",
       "      <td>Employed part-time</td>\n",
       "      <td>$75,000 to under $100,000</td>\n",
       "      <td>0</td>\n",
       "      <td>NaN</td>\n",
       "      <td>NaN</td>\n",
       "      <td>NaN</td>\n",
       "      <td>NaN</td>\n",
       "      <td>Yes</td>\n",
       "      <td>Yes</td>\n",
       "    </tr>\n",
       "    <tr>\n",
       "      <th>2828</th>\n",
       "      <td>17</td>\n",
       "      <td>Male</td>\n",
       "      <td>White</td>\n",
       "      <td>Never been married</td>\n",
       "      <td>High school incomplete</td>\n",
       "      <td>Employed part-time</td>\n",
       "      <td>$30,000 to under $40,000</td>\n",
       "      <td>0</td>\n",
       "      <td>NaN</td>\n",
       "      <td>NaN</td>\n",
       "      <td>NaN</td>\n",
       "      <td>NaN</td>\n",
       "      <td>Yes</td>\n",
       "      <td>No</td>\n",
       "    </tr>\n",
       "    <tr>\n",
       "      <th>2829</th>\n",
       "      <td>17</td>\n",
       "      <td>Female</td>\n",
       "      <td>White</td>\n",
       "      <td>Never been married</td>\n",
       "      <td>High school incomplete</td>\n",
       "      <td>Not employed for pay</td>\n",
       "      <td>9$100,000 to under $150,000</td>\n",
       "      <td>0</td>\n",
       "      <td>NaN</td>\n",
       "      <td>NaN</td>\n",
       "      <td>NaN</td>\n",
       "      <td>NaN</td>\n",
       "      <td>No</td>\n",
       "      <td>Yes</td>\n",
       "    </tr>\n",
       "    <tr>\n",
       "      <th>2830</th>\n",
       "      <td>16</td>\n",
       "      <td>Male</td>\n",
       "      <td>White</td>\n",
       "      <td>Never been married</td>\n",
       "      <td>High school graduate</td>\n",
       "      <td>Not employed for pay</td>\n",
       "      <td>9$100,000 to under $150,000</td>\n",
       "      <td>0</td>\n",
       "      <td>NaN</td>\n",
       "      <td>NaN</td>\n",
       "      <td>NaN</td>\n",
       "      <td>NaN</td>\n",
       "      <td>No</td>\n",
       "      <td>No</td>\n",
       "    </tr>\n",
       "    <tr>\n",
       "      <th>2831</th>\n",
       "      <td>16</td>\n",
       "      <td>Male</td>\n",
       "      <td>White</td>\n",
       "      <td>Never been married</td>\n",
       "      <td>Don’t know</td>\n",
       "      <td>Not employed for pay</td>\n",
       "      <td>Refused</td>\n",
       "      <td>0</td>\n",
       "      <td>NaN</td>\n",
       "      <td>NaN</td>\n",
       "      <td>NaN</td>\n",
       "      <td>NaN</td>\n",
       "      <td>No</td>\n",
       "      <td>No</td>\n",
       "    </tr>\n",
       "  </tbody>\n",
       "</table>\n",
       "<p>2831 rows × 14 columns</p>\n",
       "</div>"
      ],
      "text/plain": [
       "      Age     Sex                             Race     Marital status?  \\\n",
       "0      66    Male                          Refused            Divorced   \n",
       "1      46    Male  Native American/American Indian             Married   \n",
       "2      32    Male                       Mixed race  Never been married   \n",
       "3      27    Male                       Mixed race             Married   \n",
       "4      16  Female                       Mixed race  Never been married   \n",
       "...   ...     ...                              ...                 ...   \n",
       "2827   18    Male                            White  Never been married   \n",
       "2828   17    Male                            White  Never been married   \n",
       "2829   17  Female                            White  Never been married   \n",
       "2830   16    Male                            White  Never been married   \n",
       "2831   16    Male                            White  Never been married   \n",
       "\n",
       "                   Education           Employement  \\\n",
       "0           College graduate               Retired   \n",
       "1       High school graduate    Employed full-time   \n",
       "2       High school graduate    Employed full-time   \n",
       "3       High school graduate    Employed full-time   \n",
       "4     High school incomplete    Employed part-time   \n",
       "...                      ...                   ...   \n",
       "2827    High school graduate    Employed part-time   \n",
       "2828  High school incomplete    Employed part-time   \n",
       "2829  High school incomplete  Not employed for pay   \n",
       "2830    High school graduate  Not employed for pay   \n",
       "2831              Don’t know  Not employed for pay   \n",
       "\n",
       "                          Incomes  \\\n",
       "0        $20,000 to under $30,000   \n",
       "1               Less than $10,000   \n",
       "2               Less than $10,000   \n",
       "3        $40,000 to under $50,000   \n",
       "4        $10,000 to under $20,000   \n",
       "...                           ...   \n",
       "2827    $75,000 to under $100,000   \n",
       "2828     $30,000 to under $40,000   \n",
       "2829  9$100,000 to under $150,000   \n",
       "2830  9$100,000 to under $150,000   \n",
       "2831                      Refused   \n",
       "\n",
       "      How many books did you read during last 12months?  \\\n",
       "0                                                    97   \n",
       "1                                                    97   \n",
       "2                                                    97   \n",
       "3                                                    97   \n",
       "4                                                    97   \n",
       "...                                                 ...   \n",
       "2827                                                  0   \n",
       "2828                                                  0   \n",
       "2829                                                  0   \n",
       "2830                                                  0   \n",
       "2831                                                  0   \n",
       "\n",
       "     Read any printed books during last 12months?  \\\n",
       "0                                             Yes   \n",
       "1                                             Yes   \n",
       "2                                              No   \n",
       "3                                             Yes   \n",
       "4                                             Yes   \n",
       "...                                           ...   \n",
       "2827                                          NaN   \n",
       "2828                                          NaN   \n",
       "2829                                          NaN   \n",
       "2830                                          NaN   \n",
       "2831                                          NaN   \n",
       "\n",
       "     Read any audiobooks during last 12months?  \\\n",
       "0                                           No   \n",
       "1                                          Yes   \n",
       "2                                          Yes   \n",
       "3                                           No   \n",
       "4                                          Yes   \n",
       "...                                        ...   \n",
       "2827                                       NaN   \n",
       "2828                                       NaN   \n",
       "2829                                       NaN   \n",
       "2830                                       NaN   \n",
       "2831                                       NaN   \n",
       "\n",
       "     Read any e-books during last 12months?  \\\n",
       "0                                       Yes   \n",
       "1                                       Yes   \n",
       "2                                       Yes   \n",
       "3                                       Yes   \n",
       "4                                        No   \n",
       "...                                     ...   \n",
       "2827                                    NaN   \n",
       "2828                                    NaN   \n",
       "2829                                    NaN   \n",
       "2830                                    NaN   \n",
       "2831                                    NaN   \n",
       "\n",
       "                              Last book you read, you…  \\\n",
       "0                                   Purchased the book   \n",
       "1                                   Purchased the book   \n",
       "2     Borrowed the book from a friend or family member   \n",
       "3                     Borrowed the book from a library   \n",
       "4                                   Purchased the book   \n",
       "...                                                ...   \n",
       "2827                                               NaN   \n",
       "2828                                               NaN   \n",
       "2829                                               NaN   \n",
       "2830                                               NaN   \n",
       "2831                                               NaN   \n",
       "\n",
       "     Do you happen to read any daily news or newspapers?  \\\n",
       "0                                                    No    \n",
       "1                                                   Yes    \n",
       "2                                                   Yes    \n",
       "3                                                   Yes    \n",
       "4                                                   Yes    \n",
       "...                                                 ...    \n",
       "2827                                                Yes    \n",
       "2828                                                Yes    \n",
       "2829                                                 No    \n",
       "2830                                                 No    \n",
       "2831                                                 No    \n",
       "\n",
       "     Do you happen to read any magazines or journals?  \n",
       "0                                                 Yes  \n",
       "1                                                 Yes  \n",
       "2                                                 Yes  \n",
       "3                                                  No  \n",
       "4                                                  No  \n",
       "...                                               ...  \n",
       "2827                                              Yes  \n",
       "2828                                               No  \n",
       "2829                                              Yes  \n",
       "2830                                               No  \n",
       "2831                                               No  \n",
       "\n",
       "[2831 rows x 14 columns]"
      ]
     },
     "execution_count": 5,
     "metadata": {},
     "output_type": "execute_result"
    }
   ],
   "source": [
    "df.drop_duplicates()\n",
    "#there doesn't appear to be any duplicate rows"
   ]
  },
  {
   "cell_type": "markdown",
   "id": "7850c98c",
   "metadata": {},
   "source": [
    "The info function showed me that there are null values in these columns:\n",
    "\n",
    "- Read any printed books during last 12months?\n",
    "- Read any audiobooks during last 12months?\n",
    "- Read any e-books during last 12months?\n",
    "- Last book you read, you…"
   ]
  },
  {
   "cell_type": "code",
   "execution_count": 6,
   "id": "bdf72e45",
   "metadata": {},
   "outputs": [],
   "source": [
    "#drop rows where there are null values\n",
    "df.dropna(inplace = True)"
   ]
  },
  {
   "cell_type": "code",
   "execution_count": 7,
   "id": "8465dc5b",
   "metadata": {},
   "outputs": [
    {
     "data": {
      "text/plain": [
       "Age                                                    0\n",
       "Sex                                                    0\n",
       "Race                                                   0\n",
       "Marital status?                                        0\n",
       "Education                                              0\n",
       "Employement                                            0\n",
       "Incomes                                                0\n",
       "How many books did you read during last 12months?      0\n",
       "Read any printed books during last 12months?           0\n",
       "Read any audiobooks during last 12months?              0\n",
       "Read any e-books during last 12months?                 0\n",
       "Last book you read, you…                               0\n",
       "Do you happen to read any daily news or newspapers?    0\n",
       "Do you happen to read any magazines or journals?       0\n",
       "dtype: int64"
      ]
     },
     "execution_count": 7,
     "metadata": {},
     "output_type": "execute_result"
    }
   ],
   "source": [
    "#let's verify the amount of null values in those columns\n",
    "df.isna().sum()"
   ]
  },
  {
   "cell_type": "code",
   "execution_count": 9,
   "id": "f874b35e",
   "metadata": {},
   "outputs": [],
   "source": [
    "#I would also like to rename some columns for brevity and cohesion\n",
    "df.rename(columns = {\"Marital status?\":\"Marital Status\", \"Employement\":\"Employment\", \"Incomes\":\"Income\", \n",
    "                    \"How many books did you read during last 12months?\":\"Number of books read\",\n",
    "                    \"Read any printed books during last 12months?\":\"Printed books read?\",\n",
    "                    \"Read any audiobooks during last 12months?\":\"Audiobooks listened?\",\n",
    "                    \"Read any e-books during last 12months?\":\"E-Books read?\",\n",
    "                    \"Last book you read, you…\":\"Method of getting book\",\n",
    "                    \"Do you happen to read any daily news or newspapers?\":\"Daily news or newspapers read?\",\n",
    "                    \"Do you happen to read any magazines or journals?\":\"Magazines or journals read?\"}, inplace = True)"
   ]
  },
  {
   "cell_type": "code",
   "execution_count": 11,
   "id": "3887416b",
   "metadata": {},
   "outputs": [],
   "source": [
    "#function to change the datatypes which lessens the memory usage\n",
    "def changeCategory(df):\n",
    "    for col in [\"Sex\", \"Race\", \"Marital Status\", \"Education\", \"Employment\", \"Income\", \"Printed books read?\",\n",
    "               \"Audiobooks listened?\", \"E-Books read?\", \"Method of getting book\", \"Daily news or newspapers read?\",\n",
    "               \"Magazines or journals read?\"]:\n",
    "        df[col] = df[col].astype('category')\n",
    "        \n",
    "changeCategory(df)"
   ]
  },
  {
   "cell_type": "code",
   "execution_count": 12,
   "id": "81424263",
   "metadata": {},
   "outputs": [
    {
     "name": "stdout",
     "output_type": "stream",
     "text": [
      "<class 'pandas.core.frame.DataFrame'>\n",
      "RangeIndex: 2832 entries, 0 to 2831\n",
      "Data columns (total 14 columns):\n",
      " #   Column                          Non-Null Count  Dtype   \n",
      "---  ------                          --------------  -----   \n",
      " 0   Age                             2832 non-null   int64   \n",
      " 1   Sex                             2832 non-null   category\n",
      " 2   Race                            2832 non-null   category\n",
      " 3   Marital Status                  2832 non-null   category\n",
      " 4   Education                       2832 non-null   category\n",
      " 5   Employment                      2832 non-null   category\n",
      " 6   Income                          2832 non-null   category\n",
      " 7   Number of books read            2832 non-null   int64   \n",
      " 8   Printed books read?             2442 non-null   category\n",
      " 9   Audiobooks listened?            2442 non-null   category\n",
      " 10  E-Books read?                   2442 non-null   category\n",
      " 11  Method of getting book          2442 non-null   category\n",
      " 12  Daily news or newspapers read?  2832 non-null   category\n",
      " 13  Magazines or journals read?     2832 non-null   category\n",
      "dtypes: category(12), int64(2)\n",
      "memory usage: 80.3 KB\n"
     ]
    }
   ],
   "source": [
    "#review the changes made\n",
    "#now there are no null values\n",
    "#some column names have changed\n",
    "#changed the object datatypes to category\n",
    "df.info()"
   ]
  },
  {
   "cell_type": "markdown",
   "id": "80f239bd",
   "metadata": {},
   "source": [
    "Considering the \"Income\" column is a range of values, the column data type 'category' is appropriate.\n",
    "\n",
    "I will clean up unnecessary rows. At least one of my questions is about marital status so I will check if there are unknown values."
   ]
  },
  {
   "cell_type": "code",
   "execution_count": 10,
   "id": "d86e9581",
   "metadata": {},
   "outputs": [
    {
     "data": {
      "text/plain": [
       "Married                  1333\n",
       "Never been married        540\n",
       "Divorced                  196\n",
       "Widowed                   153\n",
       "Living with a partner     121\n",
       "Single                     48\n",
       "Separated                  36\n",
       "Don’t know                 15\n",
       "Name: Marital Status, dtype: int64"
      ]
     },
     "execution_count": 10,
     "metadata": {},
     "output_type": "execute_result"
    }
   ],
   "source": [
    "#check the unique values\n",
    "df[\"Marital Status\"].value_counts()"
   ]
  },
  {
   "cell_type": "code",
   "execution_count": 11,
   "id": "27b4de51",
   "metadata": {},
   "outputs": [],
   "source": [
    "#there are 15 rows that have \"Don't know\" which is not useful\n",
    "#drop those rows\n",
    "df.drop(df[df[\"Marital Status\"] == \"Don’t know\"].index, inplace = True)"
   ]
  },
  {
   "cell_type": "code",
   "execution_count": 12,
   "id": "af63bdfb",
   "metadata": {},
   "outputs": [
    {
     "data": {
      "text/plain": [
       "Married                  1333\n",
       "Never been married        540\n",
       "Divorced                  196\n",
       "Widowed                   153\n",
       "Living with a partner     121\n",
       "Single                     48\n",
       "Separated                  36\n",
       "Name: Marital Status, dtype: int64"
      ]
     },
     "execution_count": 12,
     "metadata": {},
     "output_type": "execute_result"
    }
   ],
   "source": [
    "#check that \"Don't know\" rows were dropped\n",
    "df[\"Marital Status\"].value_counts()"
   ]
  },
  {
   "cell_type": "code",
   "execution_count": 13,
   "id": "ef597695",
   "metadata": {},
   "outputs": [
    {
     "data": {
      "text/plain": [
       "Some college, no 4-year degree                              575\n",
       "College graduate                                            565\n",
       "High school graduate                                        521\n",
       "Post-graduate training/professional school after college    481\n",
       "High school incomplete                                      202\n",
       "Technical, trade or vocational school AFTER high school      49\n",
       "None                                                         30\n",
       "Don’t know                                                    4\n",
       "Name: Education, dtype: int64"
      ]
     },
     "execution_count": 13,
     "metadata": {},
     "output_type": "execute_result"
    }
   ],
   "source": [
    "#I also have at least one question about education so I will check the unique values\n",
    "df[\"Education\"].value_counts()"
   ]
  },
  {
   "cell_type": "code",
   "execution_count": 14,
   "id": "1249b05a",
   "metadata": {},
   "outputs": [],
   "source": [
    "#there are 4 rows that have \"Don't know\" which is not useful\n",
    "#drop those rows\n",
    "df.drop(df[df[\"Education\"] == \"Don’t know\"].index, inplace = True)"
   ]
  },
  {
   "cell_type": "code",
   "execution_count": 15,
   "id": "39706d68",
   "metadata": {},
   "outputs": [
    {
     "data": {
      "text/plain": [
       "Employed full-time                 1086\n",
       "Retired                             493\n",
       "Not employed for pay                400\n",
       "Employed part-time                  319\n",
       "Have own business/self-employed      47\n",
       "Disabled                             45\n",
       "Student                              22\n",
       "Other                                11\n",
       "Name: Employment, dtype: int64"
      ]
     },
     "execution_count": 15,
     "metadata": {},
     "output_type": "execute_result"
    }
   ],
   "source": [
    "#similarly, I also have at least one question about employment so I will check the unique values\n",
    "df[\"Employment\"].value_counts()"
   ]
  },
  {
   "cell_type": "code",
   "execution_count": 16,
   "id": "8e793fd2",
   "metadata": {},
   "outputs": [],
   "source": [
    "#there are 13 rows under \"Other\" which is too vague and not useful\n",
    "#drop those rows\n",
    "df.drop(df[df[\"Employment\"] == \"Other\"].index, inplace = True)"
   ]
  },
  {
   "cell_type": "code",
   "execution_count": 17,
   "id": "86b8631e",
   "metadata": {},
   "outputs": [
    {
     "data": {
      "text/plain": [
       "Purchased the book                                  1252\n",
       "Borrowed the book from a friend or family member     497\n",
       "Borrowed the book from a library                     327\n",
       "Got the book some other way                          305\n",
       "8                                                     25\n",
       "9                                                      6\n",
       "Name: Method of getting book, dtype: int64"
      ]
     },
     "execution_count": 17,
     "metadata": {},
     "output_type": "execute_result"
    }
   ],
   "source": [
    "#i will check the column for method of getting the book\n",
    "df[\"Method of getting book\"].value_counts()"
   ]
  },
  {
   "cell_type": "code",
   "execution_count": 18,
   "id": "05b86c95",
   "metadata": {},
   "outputs": [],
   "source": [
    "#there are 2 strange columns called 8 and 9 so I will drop them too\n",
    "#drop those rows\n",
    "df.drop(df[df[\"Method of getting book\"] == '8'].index, inplace = True)\n",
    "df.drop(df[df[\"Method of getting book\"] == '9'].index, inplace = True)"
   ]
  },
  {
   "cell_type": "markdown",
   "id": "c5be1174",
   "metadata": {},
   "source": [
    "I will do the same thing for each of the book categories."
   ]
  },
  {
   "cell_type": "code",
   "execution_count": 19,
   "id": "3182f811",
   "metadata": {},
   "outputs": [
    {
     "data": {
      "text/plain": [
       "Yes           2213\n",
       "No             158\n",
       "Don’t know      10\n",
       "Name: Printed books read?, dtype: int64"
      ]
     },
     "execution_count": 19,
     "metadata": {},
     "output_type": "execute_result"
    }
   ],
   "source": [
    "#i will check the column for method of getting the book\n",
    "df[\"Printed books read?\"].value_counts()"
   ]
  },
  {
   "cell_type": "code",
   "execution_count": 20,
   "id": "b3e5bb2e",
   "metadata": {},
   "outputs": [],
   "source": [
    "#drop the \"Don't know\" rows for printed books\n",
    "df.drop(df[df[\"Printed books read?\"] == \"Don’t know\"].index, inplace = True)"
   ]
  },
  {
   "cell_type": "code",
   "execution_count": 21,
   "id": "e75c7216",
   "metadata": {},
   "outputs": [],
   "source": [
    "#drop the \"Don't know\" rows for audiobooks\n",
    "df.drop(df[df[\"Audiobooks listened?\"] == \"Don’t know\"].index, inplace = True)"
   ]
  },
  {
   "cell_type": "code",
   "execution_count": 22,
   "id": "af697ae1",
   "metadata": {},
   "outputs": [],
   "source": [
    "#drop the \"Don't know\" rows for e-books\n",
    "df.drop(df[df[\"E-Books read?\"] == \"Don’t know\"].index, inplace = True)"
   ]
  },
  {
   "cell_type": "markdown",
   "id": "b1b1bc63",
   "metadata": {},
   "source": [
    "We can now start to answer the questions.\n",
    "## 1. Is there a preference for a certain book format based on sex?"
   ]
  },
  {
   "cell_type": "code",
   "execution_count": 23,
   "id": "eae1207d",
   "metadata": {},
   "outputs": [
    {
     "data": {
      "text/plain": [
       "<AxesSubplot:xlabel='Printed books read?', ylabel='count'>"
      ]
     },
     "execution_count": 23,
     "metadata": {},
     "output_type": "execute_result"
    },
    {
     "data": {
      "image/png": "[encoded data removed]",
      "text/plain": [
       "<Figure size 432x288 with 1 Axes>"
      ]
     },
     "metadata": {},
     "output_type": "display_data"
    }
   ],
   "source": [
    "#I use countplot to count the number of occurrences of \"Yes\" and \"No\" by both males and females for each book format\n",
    "#the x columns are categorical and it's effective because there are only 2 choices to display\n",
    "#I set the style to whitegrid because it's easier to estimate the count\n",
    "sns.set_style(\"whitegrid\")\n",
    "sns.countplot(x = \"Printed books read?\", hue = \"Sex\", data = df)"
   ]
  },
  {
   "cell_type": "code",
   "execution_count": 24,
   "id": "d7d41d70",
   "metadata": {},
   "outputs": [
    {
     "data": {
      "text/plain": [
       "<AxesSubplot:xlabel='Audiobooks listened?', ylabel='count'>"
      ]
     },
     "execution_count": 24,
     "metadata": {},
     "output_type": "execute_result"
    },
    {
     "data": {
      "image/png": "[encoded data removed]",
      "text/plain": [
       "<Figure size 432x288 with 1 Axes>"
      ]
     },
     "metadata": {},
     "output_type": "display_data"
    }
   ],
   "source": [
    "sns.countplot(x = \"Audiobooks listened?\", hue = \"Sex\", data = df)\n",
    "#having the 3 countplots help with the comparison"
   ]
  },
  {
   "cell_type": "code",
   "execution_count": 25,
   "id": "80652c68",
   "metadata": {},
   "outputs": [
    {
     "data": {
      "text/plain": [
       "<AxesSubplot:xlabel='E-Books read?', ylabel='count'>"
      ]
     },
     "execution_count": 25,
     "metadata": {},
     "output_type": "execute_result"
    },
    {
     "data": {
      "image/png": "[encoded data removed]",
      "text/plain": [
       "<Figure size 432x288 with 1 Axes>"
      ]
     },
     "metadata": {},
     "output_type": "display_data"
    }
   ],
   "source": [
    "#I use the order parameter to make it even with the other countplots by moving the taller columns to the left\n",
    "sns.countplot(x = \"E-Books read?\", hue = \"Sex\", data = df, order = df[\"E-Books read?\"].value_counts().index)"
   ]
  },
  {
   "cell_type": "markdown",
   "id": "d30b4ade",
   "metadata": {},
   "source": [
    "From the countplots, I can see the following:\n",
    "1. ~1000 males and ~1200 females read physical, printed books\n",
    "2. ~200 males and females listen to audiobooks\n",
    "3. ~400 males and females read e-bookes\n",
    "\n",
    "So it's clear that both sexes prefer to read printed books."
   ]
  },
  {
   "cell_type": "markdown",
   "id": "e2846197",
   "metadata": {},
   "source": [
    "## 2. Does education determine whether a person reads more?"
   ]
  },
  {
   "cell_type": "code",
   "execution_count": 26,
   "id": "e7b87bf9",
   "metadata": {},
   "outputs": [
    {
     "data": {
      "text/html": [
       "<div>\n",
       "<style scoped>\n",
       "    .dataframe tbody tr th:only-of-type {\n",
       "        vertical-align: middle;\n",
       "    }\n",
       "\n",
       "    .dataframe tbody tr th {\n",
       "        vertical-align: top;\n",
       "    }\n",
       "\n",
       "    .dataframe thead th {\n",
       "        text-align: right;\n",
       "    }\n",
       "</style>\n",
       "<table border=\"1\" class=\"dataframe\">\n",
       "  <thead>\n",
       "    <tr style=\"text-align: right;\">\n",
       "      <th></th>\n",
       "      <th>Number of books read</th>\n",
       "    </tr>\n",
       "    <tr>\n",
       "      <th>Education</th>\n",
       "      <th></th>\n",
       "    </tr>\n",
       "  </thead>\n",
       "  <tbody>\n",
       "    <tr>\n",
       "      <th>College graduate</th>\n",
       "      <td>19.450271</td>\n",
       "    </tr>\n",
       "    <tr>\n",
       "      <th>High school graduate</th>\n",
       "      <td>16.249501</td>\n",
       "    </tr>\n",
       "    <tr>\n",
       "      <th>High school incomplete</th>\n",
       "      <td>16.419689</td>\n",
       "    </tr>\n",
       "    <tr>\n",
       "      <th>None</th>\n",
       "      <td>8.740741</td>\n",
       "    </tr>\n",
       "    <tr>\n",
       "      <th>Post-graduate training/professional school after college</th>\n",
       "      <td>23.108280</td>\n",
       "    </tr>\n",
       "    <tr>\n",
       "      <th>Some college, no 4-year degree</th>\n",
       "      <td>20.595365</td>\n",
       "    </tr>\n",
       "    <tr>\n",
       "      <th>Technical, trade or vocational school AFTER high school</th>\n",
       "      <td>19.708333</td>\n",
       "    </tr>\n",
       "  </tbody>\n",
       "</table>\n",
       "</div>"
      ],
      "text/plain": [
       "                                                    Number of books read\n",
       "Education                                                               \n",
       "College graduate                                               19.450271\n",
       "High school graduate                                           16.249501\n",
       "High school incomplete                                         16.419689\n",
       "None                                                            8.740741\n",
       "Post-graduate training/professional school afte...             23.108280\n",
       "Some college, no 4-year degree                                 20.595365\n",
       "Technical, trade or vocational school AFTER hig...             19.708333"
      ]
     },
     "execution_count": 26,
     "metadata": {},
     "output_type": "execute_result"
    }
   ],
   "source": [
    "#I use a pivot table to get the values I need\n",
    "df.pivot_table(values = \"Number of books read\", index = \"Education\")\n",
    "#by default, mean is applied to the pivot table"
   ]
  },
  {
   "cell_type": "markdown",
   "id": "1539a10b",
   "metadata": {},
   "source": [
    "For these kinds of graphs, I need to move the labels so that they can be clearly read. I used this website for reference which was super helpful: https://drawingfromdata.com/seaborn/matplotlib/visualization/rotate-axis-labels-matplotlib-seaborn.html"
   ]
  },
  {
   "cell_type": "code",
   "execution_count": 27,
   "id": "37b299da",
   "metadata": {},
   "outputs": [
    {
     "data": {
      "text/plain": [
       "<AxesSubplot:xlabel='Education', ylabel='Number of books read'>"
      ]
     },
     "execution_count": 27,
     "metadata": {},
     "output_type": "execute_result"
    },
    {
     "data": {
      "image/png": "[encoded data removed]",
      "text/plain": [
       "<Figure size 432x288 with 1 Axes>"
      ]
     },
     "metadata": {},
     "output_type": "display_data"
    }
   ],
   "source": [
    "#use strip plot and assign it to a variable to change the labels later\n",
    "strip = sns.stripplot(x = \"Education\", y = \"Number of books read\", data = df, size = 3)\n",
    "\n",
    "#I have decided to go with the object-oriented method although using plt.xticks is said to be easier\n",
    "#horizontalalignment = \"right\" shifts all of them so they are more closely aligned with their plots\n",
    "#None hides the label objects for cleaner visualisation\n",
    "\n",
    "strip.set_xticklabels(strip.get_xticklabels(), rotation = 45, horizontalalignment = \"right\", fontsize = \"x-large\")\n",
    "None \n",
    "\n",
    "#I use a violinplot to complement the stripplot\n",
    "#inner = None leaves just the shapes of the \"violins\"\n",
    "#color = \".8\" changes them to grey\n",
    "sns.violinplot(x = \"Education\", y = \"Number of books read\", data = df, inner = None, color = \".8\")"
   ]
  },
  {
   "cell_type": "markdown",
   "id": "42a78992",
   "metadata": {},
   "source": [
    "The pivot table shows that on average, a person reads more the higher their level of education. The highest average corresponds with \"Post-graduate training/professional school after college\" which may indicate that a person reads more at this level since it's required for their training or additional schooling.\n",
    "\n",
    "The stripplot shows that there's more plots in the following levels: \"Post-graduate training/professional school after college\" and \"Some college, no 4-year degree\". In comparison, \"None\" has a lot less plots."
   ]
  },
  {
   "cell_type": "markdown",
   "id": "e2132ee0",
   "metadata": {},
   "source": [
    "## 3. Does age determine whether a person reads more?"
   ]
  },
  {
   "cell_type": "code",
   "execution_count": 28,
   "id": "1d40ca7a",
   "metadata": {},
   "outputs": [
    {
     "data": {
      "text/plain": [
       "<seaborn.axisgrid.JointGrid at 0x26d1b3580d0>"
      ]
     },
     "execution_count": 28,
     "metadata": {},
     "output_type": "execute_result"
    },
    {
     "data": {
      "image/png": "[encoded data removed]",
      "text/plain": [
       "<Figure size 432x432 with 3 Axes>"
      ]
     },
     "metadata": {},
     "output_type": "display_data"
    }
   ],
   "source": [
    "#I will check visully first\n",
    "#darker hexes indicate more numbers/plots focused in that area\n",
    "sns.jointplot(x = \"Number of books read\", y = \"Age\", data = df, kind = \"hex\")"
   ]
  },
  {
   "cell_type": "code",
   "execution_count": 29,
   "id": "59c0f1a5",
   "metadata": {},
   "outputs": [
    {
     "data": {
      "text/plain": [
       "(0.0, 100.0)"
      ]
     },
     "execution_count": 29,
     "metadata": {},
     "output_type": "execute_result"
    },
    {
     "data": {
      "image/png": "[encoded data removed]",
      "text/plain": [
       "<Figure size 432x288 with 1 Axes>"
      ]
     },
     "metadata": {},
     "output_type": "display_data"
    }
   ],
   "source": [
    "#I use the regression plot to see if it makes things clearer\n",
    "sns.regplot(x = \"Number of books read\", y = \"Age\", data = df)\n",
    "#adds spaces to the y-axis\n",
    "plt.ylim(0, 100)"
   ]
  },
  {
   "cell_type": "code",
   "execution_count": 30,
   "id": "3dc879b3",
   "metadata": {},
   "outputs": [
    {
     "data": {
      "text/html": [
       "<div>\n",
       "<style scoped>\n",
       "    .dataframe tbody tr th:only-of-type {\n",
       "        vertical-align: middle;\n",
       "    }\n",
       "\n",
       "    .dataframe tbody tr th {\n",
       "        vertical-align: top;\n",
       "    }\n",
       "\n",
       "    .dataframe thead th {\n",
       "        text-align: right;\n",
       "    }\n",
       "</style>\n",
       "<table border=\"1\" class=\"dataframe\">\n",
       "  <thead>\n",
       "    <tr style=\"text-align: right;\">\n",
       "      <th></th>\n",
       "      <th>Age</th>\n",
       "      <th>Number of books read</th>\n",
       "    </tr>\n",
       "  </thead>\n",
       "  <tbody>\n",
       "    <tr>\n",
       "      <th>Age</th>\n",
       "      <td>1.000000</td>\n",
       "      <td>0.088308</td>\n",
       "    </tr>\n",
       "    <tr>\n",
       "      <th>Number of books read</th>\n",
       "      <td>0.088308</td>\n",
       "      <td>1.000000</td>\n",
       "    </tr>\n",
       "  </tbody>\n",
       "</table>\n",
       "</div>"
      ],
      "text/plain": [
       "                           Age  Number of books read\n",
       "Age                   1.000000              0.088308\n",
       "Number of books read  0.088308              1.000000"
      ]
     },
     "execution_count": 30,
     "metadata": {},
     "output_type": "execute_result"
    }
   ],
   "source": [
    "#this can be done because both columns are numerical\n",
    "#they are the only numerical columns in the data set\n",
    "df.corr()"
   ]
  },
  {
   "cell_type": "markdown",
   "id": "a18c4fa8",
   "metadata": {},
   "source": [
    "Unfortunately, both the joinplot and regplot show that there is a weak correlation so it's hard to say that age determines whether a person reads more. Both plots show that the points are very scattered and don't follow along the line in the regplot which means there's more variables that are affecting whether a person reads more.\n",
    "\n",
    "Through the corr function, I can see that the correlation between \"Age\" and \"Number of books read\" is approximately 0.088308. Rounded up, it's 0.1 (or up to 3 decimal places 0.088) which is closer to 0."
   ]
  },
  {
   "cell_type": "markdown",
   "id": "42a986bc",
   "metadata": {},
   "source": [
    "#### Pearson's Correlation Test"
   ]
  },
  {
   "cell_type": "code",
   "execution_count": 31,
   "id": "e104d950",
   "metadata": {},
   "outputs": [
    {
     "name": "stdout",
     "output_type": "stream",
     "text": [
      "Correlation Coefficient = 0.088, P-value = 0.000\n"
     ]
    }
   ],
   "source": [
    "#I will use Pearson's Correlation Test this time\n",
    "from scipy.stats import pearsonr\n",
    "stat, p = pearsonr(df[\"Age\"], df[\"Number of books read\"])\n",
    "print(\"Correlation Coefficient = %.3f, P-value = %.3f\" % (stat, p))"
   ]
  },
  {
   "cell_type": "markdown",
   "id": "c89ff7d0",
   "metadata": {},
   "source": [
    "Pearson's Correlation Test confirms that the correlation is the same as shown above with the corr function. Since it's close to 0, it indicates that there may be no relationship/correlation between \"Age\" and \"Number of books read\". The P-value is smaller than than the alpha level 0.05 which means there's moderate certainty about the correlation."
   ]
  },
  {
   "cell_type": "markdown",
   "id": "52daf8f2",
   "metadata": {},
   "source": [
    "#### ANOVA"
   ]
  },
  {
   "cell_type": "code",
   "execution_count": 33,
   "id": "21c7ef8a",
   "metadata": {},
   "outputs": [
    {
     "name": "stdout",
     "output_type": "stream",
     "text": [
      "F-value = 1827.323, P-value = 0.000\n"
     ]
    }
   ],
   "source": [
    "import scipy.stats as stats\n",
    "#using the f_oneway method and passing the numerical columns \"Age\" and \"Number of books read\"\n",
    "fvalue, p = stats.f_oneway(df[\"Age\"], df[\"Number of books read\"])\n",
    "print(\"F-value = %.3f, P-value = %.3f\" % (fvalue, p))"
   ]
  },
  {
   "cell_type": "code",
   "execution_count": 7,
   "id": "bd542cb9",
   "metadata": {},
   "outputs": [
    {
     "data": {
      "text/plain": [
       "<AxesSubplot:xlabel='Number of books read', ylabel='Density'>"
      ]
     },
     "execution_count": 7,
     "metadata": {},
     "output_type": "execute_result"
    },
    {
     "data": {
      "image/png": "[encoded data removed]",
      "text/plain": [
       "<Figure size 432x288 with 1 Axes>"
      ]
     },
     "metadata": {
      "needs_background": "light"
     },
     "output_type": "display_data"
    }
   ],
   "source": [
    "#graph the distribution\n",
    "sns.distplot(df[\"Number of books read\"])"
   ]
  },
  {
   "cell_type": "markdown",
   "id": "e892322a",
   "metadata": {},
   "source": [
    "As previously proved, the P-value is 0 which is smaller than 0.05 which means that it's significant. This can also be seen through the higher number of the F-value. The distplot shows that the \"Number of books read\" column has a F-distribution which is why the F-value is so high."
   ]
  },
  {
   "cell_type": "markdown",
   "id": "2ce5fcf9",
   "metadata": {},
   "source": [
    "#### Hypothesis Testing\n",
    "Is the number of books read mean (average) 19?\n",
    "#### Z-Test\n",
    "I used Z-Test because the sample is very large."
   ]
  },
  {
   "cell_type": "code",
   "execution_count": 34,
   "id": "42183359",
   "metadata": {},
   "outputs": [
    {
     "data": {
      "text/plain": [
       "count    2354.000000\n",
       "mean       19.407816\n",
       "std        24.399812\n",
       "min         1.000000\n",
       "25%         4.000000\n",
       "50%        10.000000\n",
       "75%        24.000000\n",
       "max        97.000000\n",
       "Name: Number of books read, dtype: float64"
      ]
     },
     "execution_count": 34,
     "metadata": {},
     "output_type": "execute_result"
    }
   ],
   "source": [
    "#checking the mean using describe method\n",
    "df[\"Number of books read\"].describe()"
   ]
  },
  {
   "cell_type": "code",
   "execution_count": 35,
   "id": "55fdd3f5",
   "metadata": {},
   "outputs": [
    {
     "name": "stdout",
     "output_type": "stream",
     "text": [
      "Test statistic = 0.811, P-value = 0.209\n"
     ]
    }
   ],
   "source": [
    "from statsmodels.stats.weightstats import ztest\n",
    "#19 is the value being tested, and alternative is to see whether the alternative hypothesis is larger\n",
    "test_stat, p = ztest(df[\"Number of books read\"], value = 19, alternative = \"larger\")\n",
    "print(\"Test statistic = %.3f, P-value = %.3f\" % (test_stat, p))"
   ]
  },
  {
   "cell_type": "markdown",
   "id": "4814ecb5",
   "metadata": {},
   "source": [
    "The P-value is greater than 0.05 so the null hypothesis failed to be rejected."
   ]
  },
  {
   "cell_type": "markdown",
   "id": "b667b219",
   "metadata": {},
   "source": [
    "## 4. What is the average amount of books read per sex?"
   ]
  },
  {
   "cell_type": "code",
   "execution_count": 36,
   "id": "b6ce746e",
   "metadata": {},
   "outputs": [
    {
     "data": {
      "text/html": [
       "<div>\n",
       "<style scoped>\n",
       "    .dataframe tbody tr th:only-of-type {\n",
       "        vertical-align: middle;\n",
       "    }\n",
       "\n",
       "    .dataframe tbody tr th {\n",
       "        vertical-align: top;\n",
       "    }\n",
       "\n",
       "    .dataframe thead th {\n",
       "        text-align: right;\n",
       "    }\n",
       "</style>\n",
       "<table border=\"1\" class=\"dataframe\">\n",
       "  <thead>\n",
       "    <tr style=\"text-align: right;\">\n",
       "      <th></th>\n",
       "      <th>Number of books read</th>\n",
       "    </tr>\n",
       "    <tr>\n",
       "      <th>Sex</th>\n",
       "      <th></th>\n",
       "    </tr>\n",
       "  </thead>\n",
       "  <tbody>\n",
       "    <tr>\n",
       "      <th>Female</th>\n",
       "      <td>21.927683</td>\n",
       "    </tr>\n",
       "    <tr>\n",
       "      <th>Male</th>\n",
       "      <td>16.373596</td>\n",
       "    </tr>\n",
       "  </tbody>\n",
       "</table>\n",
       "</div>"
      ],
      "text/plain": [
       "        Number of books read\n",
       "Sex                         \n",
       "Female             21.927683\n",
       "Male               16.373596"
      ]
     },
     "execution_count": 36,
     "metadata": {},
     "output_type": "execute_result"
    }
   ],
   "source": [
    "#I use another pivot table to easily get my information\n",
    "#as stated previously, pivot tables by default apply mean\n",
    "df.pivot_table(values = \"Number of books read\", index = \"Sex\")"
   ]
  },
  {
   "cell_type": "code",
   "execution_count": 37,
   "id": "d55a5f1b",
   "metadata": {},
   "outputs": [
    {
     "data": {
      "text/plain": [
       "<seaborn.axisgrid.FacetGrid at 0x26d1b539d00>"
      ]
     },
     "execution_count": 37,
     "metadata": {},
     "output_type": "execute_result"
    },
    {
     "data": {
      "image/png": "[encoded data removed]",
      "text/plain": [
       "<Figure size 360x360 with 1 Axes>"
      ]
     },
     "metadata": {},
     "output_type": "display_data"
    }
   ],
   "source": [
    "#I use factorplot to visualise the average\n",
    "#the average is shown through the two dots\n",
    "sns.factorplot(x = \"Sex\", y = \"Number of books read\", data = df)"
   ]
  },
  {
   "cell_type": "markdown",
   "id": "5625a35f",
   "metadata": {},
   "source": [
    "Both the pivot table and factorplot show that on average, females read more than males. Females read approximately 21.9 books while males read approximately 16.3 books."
   ]
  },
  {
   "cell_type": "markdown",
   "id": "c92c2b45",
   "metadata": {},
   "source": [
    "## 5. Which race tends to read more?"
   ]
  },
  {
   "cell_type": "code",
   "execution_count": 38,
   "id": "787b21b0",
   "metadata": {},
   "outputs": [
    {
     "name": "stdout",
     "output_type": "stream",
     "text": [
      "                                 Number of books read\n",
      "Race                                                 \n",
      "Asian or Pacific Islander                         631\n",
      "Black or African-American                        3568\n",
      "Don’t know                                         47\n",
      "Mixed race                                        890\n",
      "Native American/American Indian                   495\n",
      "Other                                             526\n",
      "Refused                                           674\n",
      "White                                           38855\n"
     ]
    }
   ],
   "source": [
    "#I assign the pivot table to a variable because I will use it for visualisng later\n",
    "df1 = df.pivot_table(values = \"Number of books read\", index = \"Race\", aggfunc = \"sum\")\n",
    "print(df1)"
   ]
  },
  {
   "cell_type": "code",
   "execution_count": 39,
   "id": "8c64d57d",
   "metadata": {},
   "outputs": [
    {
     "data": {
      "text/plain": [
       "<AxesSubplot:xlabel='Race'>"
      ]
     },
     "execution_count": 39,
     "metadata": {},
     "output_type": "execute_result"
    },
    {
     "data": {
      "image/png": "[encoded data removed]",
      "text/plain": [
       "<Figure size 432x288 with 1 Axes>"
      ]
     },
     "metadata": {},
     "output_type": "display_data"
    }
   ],
   "source": [
    "#I chose barplot because it's the most straight forward\n",
    "df1.plot(kind = \"bar\")"
   ]
  },
  {
   "cell_type": "markdown",
   "id": "3a456476",
   "metadata": {},
   "source": [
    "Both the pivot table and barplot show that people that answered \"White\" tend to read more. In the end, this data is unreliable since there are three non-specific categories: \"Don't know\", \"Other\", and \"Refused\" which changes the data. The people that answered those could potentially belong to the other categories, but we don't know."
   ]
  },
  {
   "cell_type": "markdown",
   "id": "1348d76c",
   "metadata": {},
   "source": [
    "## 6. Does income affect the number of printed books read?"
   ]
  },
  {
   "cell_type": "code",
   "execution_count": 40,
   "id": "2d8ddba7",
   "metadata": {},
   "outputs": [
    {
     "data": {
      "text/html": [
       "<div>\n",
       "<style scoped>\n",
       "    .dataframe tbody tr th:only-of-type {\n",
       "        vertical-align: middle;\n",
       "    }\n",
       "\n",
       "    .dataframe tbody tr th {\n",
       "        vertical-align: top;\n",
       "    }\n",
       "\n",
       "    .dataframe thead th {\n",
       "        text-align: right;\n",
       "    }\n",
       "</style>\n",
       "<table border=\"1\" class=\"dataframe\">\n",
       "  <thead>\n",
       "    <tr style=\"text-align: right;\">\n",
       "      <th></th>\n",
       "      <th>Age</th>\n",
       "      <th>Sex</th>\n",
       "      <th>Race</th>\n",
       "      <th>Marital Status</th>\n",
       "      <th>Education</th>\n",
       "      <th>Employment</th>\n",
       "      <th>Income</th>\n",
       "      <th>Number of books read</th>\n",
       "      <th>Printed books read?</th>\n",
       "      <th>Audiobooks listened?</th>\n",
       "      <th>E-Books read?</th>\n",
       "      <th>Method of getting book</th>\n",
       "      <th>Daily news or newspapers read?</th>\n",
       "      <th>Magazines or journals read?</th>\n",
       "    </tr>\n",
       "  </thead>\n",
       "  <tbody>\n",
       "    <tr>\n",
       "      <th>0</th>\n",
       "      <td>66</td>\n",
       "      <td>Male</td>\n",
       "      <td>Refused</td>\n",
       "      <td>Divorced</td>\n",
       "      <td>College graduate</td>\n",
       "      <td>Retired</td>\n",
       "      <td>$20,000 to under $30,000</td>\n",
       "      <td>97</td>\n",
       "      <td>Yes</td>\n",
       "      <td>No</td>\n",
       "      <td>Yes</td>\n",
       "      <td>Purchased the book</td>\n",
       "      <td>No</td>\n",
       "      <td>Yes</td>\n",
       "    </tr>\n",
       "    <tr>\n",
       "      <th>1</th>\n",
       "      <td>46</td>\n",
       "      <td>Male</td>\n",
       "      <td>Native American/American Indian</td>\n",
       "      <td>Married</td>\n",
       "      <td>High school graduate</td>\n",
       "      <td>Employed full-time</td>\n",
       "      <td>Less than $10,000</td>\n",
       "      <td>97</td>\n",
       "      <td>Yes</td>\n",
       "      <td>Yes</td>\n",
       "      <td>Yes</td>\n",
       "      <td>Purchased the book</td>\n",
       "      <td>Yes</td>\n",
       "      <td>Yes</td>\n",
       "    </tr>\n",
       "    <tr>\n",
       "      <th>3</th>\n",
       "      <td>27</td>\n",
       "      <td>Male</td>\n",
       "      <td>Mixed race</td>\n",
       "      <td>Married</td>\n",
       "      <td>High school graduate</td>\n",
       "      <td>Employed full-time</td>\n",
       "      <td>$40,000 to under $50,000</td>\n",
       "      <td>97</td>\n",
       "      <td>Yes</td>\n",
       "      <td>No</td>\n",
       "      <td>Yes</td>\n",
       "      <td>Borrowed the book from a library</td>\n",
       "      <td>Yes</td>\n",
       "      <td>No</td>\n",
       "    </tr>\n",
       "    <tr>\n",
       "      <th>4</th>\n",
       "      <td>16</td>\n",
       "      <td>Female</td>\n",
       "      <td>Mixed race</td>\n",
       "      <td>Never been married</td>\n",
       "      <td>High school incomplete</td>\n",
       "      <td>Employed part-time</td>\n",
       "      <td>$10,000 to under $20,000</td>\n",
       "      <td>97</td>\n",
       "      <td>Yes</td>\n",
       "      <td>Yes</td>\n",
       "      <td>No</td>\n",
       "      <td>Purchased the book</td>\n",
       "      <td>Yes</td>\n",
       "      <td>No</td>\n",
       "    </tr>\n",
       "    <tr>\n",
       "      <th>5</th>\n",
       "      <td>55</td>\n",
       "      <td>Female</td>\n",
       "      <td>Asian or Pacific Islander</td>\n",
       "      <td>Divorced</td>\n",
       "      <td>Some college, no 4-year degree</td>\n",
       "      <td>Have own business/self-employed</td>\n",
       "      <td>$40,000 to under $50,000</td>\n",
       "      <td>97</td>\n",
       "      <td>Yes</td>\n",
       "      <td>Yes</td>\n",
       "      <td>Yes</td>\n",
       "      <td>Purchased the book</td>\n",
       "      <td>No</td>\n",
       "      <td>No</td>\n",
       "    </tr>\n",
       "    <tr>\n",
       "      <th>...</th>\n",
       "      <td>...</td>\n",
       "      <td>...</td>\n",
       "      <td>...</td>\n",
       "      <td>...</td>\n",
       "      <td>...</td>\n",
       "      <td>...</td>\n",
       "      <td>...</td>\n",
       "      <td>...</td>\n",
       "      <td>...</td>\n",
       "      <td>...</td>\n",
       "      <td>...</td>\n",
       "      <td>...</td>\n",
       "      <td>...</td>\n",
       "      <td>...</td>\n",
       "    </tr>\n",
       "    <tr>\n",
       "      <th>2436</th>\n",
       "      <td>17</td>\n",
       "      <td>Female</td>\n",
       "      <td>White</td>\n",
       "      <td>Never been married</td>\n",
       "      <td>High school graduate</td>\n",
       "      <td>Not employed for pay</td>\n",
       "      <td>$20,000 to under $30,000</td>\n",
       "      <td>1</td>\n",
       "      <td>Yes</td>\n",
       "      <td>No</td>\n",
       "      <td>No</td>\n",
       "      <td>Borrowed the book from a friend or family member</td>\n",
       "      <td>No</td>\n",
       "      <td>No</td>\n",
       "    </tr>\n",
       "    <tr>\n",
       "      <th>2437</th>\n",
       "      <td>16</td>\n",
       "      <td>Female</td>\n",
       "      <td>White</td>\n",
       "      <td>Never been married</td>\n",
       "      <td>High school incomplete</td>\n",
       "      <td>Not employed for pay</td>\n",
       "      <td>$30,000 to under $40,000</td>\n",
       "      <td>1</td>\n",
       "      <td>Yes</td>\n",
       "      <td>No</td>\n",
       "      <td>No</td>\n",
       "      <td>Purchased the book</td>\n",
       "      <td>No</td>\n",
       "      <td>No</td>\n",
       "    </tr>\n",
       "    <tr>\n",
       "      <th>2438</th>\n",
       "      <td>16</td>\n",
       "      <td>Female</td>\n",
       "      <td>White</td>\n",
       "      <td>Never been married</td>\n",
       "      <td>High school incomplete</td>\n",
       "      <td>Not employed for pay</td>\n",
       "      <td>Less than $10,000</td>\n",
       "      <td>1</td>\n",
       "      <td>Yes</td>\n",
       "      <td>No</td>\n",
       "      <td>No</td>\n",
       "      <td>Borrowed the book from a library</td>\n",
       "      <td>No</td>\n",
       "      <td>No</td>\n",
       "    </tr>\n",
       "    <tr>\n",
       "      <th>2440</th>\n",
       "      <td>16</td>\n",
       "      <td>Female</td>\n",
       "      <td>White</td>\n",
       "      <td>Never been married</td>\n",
       "      <td>High school incomplete</td>\n",
       "      <td>Employed part-time</td>\n",
       "      <td>9$100,000 to under $150,000</td>\n",
       "      <td>1</td>\n",
       "      <td>Yes</td>\n",
       "      <td>No</td>\n",
       "      <td>No</td>\n",
       "      <td>Borrowed the book from a friend or family member</td>\n",
       "      <td>No</td>\n",
       "      <td>Yes</td>\n",
       "    </tr>\n",
       "    <tr>\n",
       "      <th>2441</th>\n",
       "      <td>16</td>\n",
       "      <td>Female</td>\n",
       "      <td>White</td>\n",
       "      <td>Never been married</td>\n",
       "      <td>High school incomplete</td>\n",
       "      <td>Not employed for pay</td>\n",
       "      <td>$10,000 to under $20,000</td>\n",
       "      <td>1</td>\n",
       "      <td>Yes</td>\n",
       "      <td>No</td>\n",
       "      <td>No</td>\n",
       "      <td>Borrowed the book from a library</td>\n",
       "      <td>No</td>\n",
       "      <td>No</td>\n",
       "    </tr>\n",
       "  </tbody>\n",
       "</table>\n",
       "<p>2199 rows × 14 columns</p>\n",
       "</div>"
      ],
      "text/plain": [
       "      Age     Sex                             Race      Marital Status  \\\n",
       "0      66    Male                          Refused            Divorced   \n",
       "1      46    Male  Native American/American Indian             Married   \n",
       "3      27    Male                       Mixed race             Married   \n",
       "4      16  Female                       Mixed race  Never been married   \n",
       "5      55  Female        Asian or Pacific Islander            Divorced   \n",
       "...   ...     ...                              ...                 ...   \n",
       "2436   17  Female                            White  Never been married   \n",
       "2437   16  Female                            White  Never been married   \n",
       "2438   16  Female                            White  Never been married   \n",
       "2440   16  Female                            White  Never been married   \n",
       "2441   16  Female                            White  Never been married   \n",
       "\n",
       "                           Education                       Employment  \\\n",
       "0                   College graduate                          Retired   \n",
       "1               High school graduate               Employed full-time   \n",
       "3               High school graduate               Employed full-time   \n",
       "4             High school incomplete               Employed part-time   \n",
       "5     Some college, no 4-year degree  Have own business/self-employed   \n",
       "...                              ...                              ...   \n",
       "2436            High school graduate             Not employed for pay   \n",
       "2437          High school incomplete             Not employed for pay   \n",
       "2438          High school incomplete             Not employed for pay   \n",
       "2440          High school incomplete               Employed part-time   \n",
       "2441          High school incomplete             Not employed for pay   \n",
       "\n",
       "                           Income  Number of books read Printed books read?  \\\n",
       "0        $20,000 to under $30,000                    97                 Yes   \n",
       "1               Less than $10,000                    97                 Yes   \n",
       "3        $40,000 to under $50,000                    97                 Yes   \n",
       "4        $10,000 to under $20,000                    97                 Yes   \n",
       "5        $40,000 to under $50,000                    97                 Yes   \n",
       "...                           ...                   ...                 ...   \n",
       "2436     $20,000 to under $30,000                     1                 Yes   \n",
       "2437     $30,000 to under $40,000                     1                 Yes   \n",
       "2438            Less than $10,000                     1                 Yes   \n",
       "2440  9$100,000 to under $150,000                     1                 Yes   \n",
       "2441     $10,000 to under $20,000                     1                 Yes   \n",
       "\n",
       "     Audiobooks listened? E-Books read?  \\\n",
       "0                      No           Yes   \n",
       "1                     Yes           Yes   \n",
       "3                      No           Yes   \n",
       "4                     Yes            No   \n",
       "5                     Yes           Yes   \n",
       "...                   ...           ...   \n",
       "2436                   No            No   \n",
       "2437                   No            No   \n",
       "2438                   No            No   \n",
       "2440                   No            No   \n",
       "2441                   No            No   \n",
       "\n",
       "                                Method of getting book  \\\n",
       "0                                   Purchased the book   \n",
       "1                                   Purchased the book   \n",
       "3                     Borrowed the book from a library   \n",
       "4                                   Purchased the book   \n",
       "5                                   Purchased the book   \n",
       "...                                                ...   \n",
       "2436  Borrowed the book from a friend or family member   \n",
       "2437                                Purchased the book   \n",
       "2438                  Borrowed the book from a library   \n",
       "2440  Borrowed the book from a friend or family member   \n",
       "2441                  Borrowed the book from a library   \n",
       "\n",
       "     Daily news or newspapers read? Magazines or journals read?  \n",
       "0                                No                         Yes  \n",
       "1                               Yes                         Yes  \n",
       "3                               Yes                          No  \n",
       "4                               Yes                          No  \n",
       "5                                No                          No  \n",
       "...                             ...                         ...  \n",
       "2436                             No                          No  \n",
       "2437                             No                          No  \n",
       "2438                             No                          No  \n",
       "2440                             No                         Yes  \n",
       "2441                             No                          No  \n",
       "\n",
       "[2199 rows x 14 columns]"
      ]
     },
     "execution_count": 40,
     "metadata": {},
     "output_type": "execute_result"
    }
   ],
   "source": [
    "#I will first get a data frame with only \"Yes\" answered for \"Printed books read?\" column\n",
    "df1 = df[df[\"Printed books read?\"] == \"Yes\"]\n",
    "#display\n",
    "df1"
   ]
  },
  {
   "cell_type": "code",
   "execution_count": 41,
   "id": "596dd089",
   "metadata": {},
   "outputs": [
    {
     "data": {
      "image/png": "[encoded data removed]",
      "text/plain": [
       "<Figure size 432x288 with 1 Axes>"
      ]
     },
     "metadata": {},
     "output_type": "display_data"
    }
   ],
   "source": [
    "#graph the income using the new df1\n",
    "sns.countplot(x = \"Income\", data = df1)\n",
    "#I decided to try the non object oriented method which is much shorter\n",
    "plt.xticks(rotation = 65, horizontalalignment = \"right\")\n",
    "None"
   ]
  },
  {
   "cell_type": "code",
   "execution_count": 42,
   "id": "844c766b",
   "metadata": {},
   "outputs": [
    {
     "data": {
      "text/plain": [
       "$100,000 to under $150,000     459\n",
       "$50,000 to under $75,000       319\n",
       "$75,000 to under $100,000      264\n",
       "Refused                        212\n",
       "$30,000 to under $40,000       208\n",
       "$20,000 to under $30,000       189\n",
       "$40,000 to under $50,000       171\n",
       "$10,000 to under $20,000       142\n",
       "9$100,000 to under $150,000    141\n",
       "Less than $10,000               94\n",
       "Name: Income, dtype: int64"
      ]
     },
     "execution_count": 42,
     "metadata": {},
     "output_type": "execute_result"
    }
   ],
   "source": [
    "#see how many people answered what for Income\n",
    "df1[\"Income\"].value_counts()"
   ]
  },
  {
   "cell_type": "markdown",
   "id": "90c4e490",
   "metadata": {},
   "source": [
    "In general, it's reasonable to say that income does affect the number of printed books read. There is a strange column named \"9$100,000 to under $150,000\", but if I assume it simply means \"$100,000 to under $150,000\" then we can add the numbers to that existing column. The countplot shows that people that fall under the income range of $50,000 - $150,000 tend to purchase physical books more than others. This may be because they have more disposable income. This is especially true for people that earn $100,000 - $150,000. "
   ]
  },
  {
   "cell_type": "markdown",
   "id": "7a70dcec",
   "metadata": {},
   "source": [
    "## 7. Does level of employment affect number of books read?"
   ]
  },
  {
   "cell_type": "code",
   "execution_count": 43,
   "id": "1880de59",
   "metadata": {},
   "outputs": [
    {
     "data": {
      "text/html": [
       "<div>\n",
       "<style scoped>\n",
       "    .dataframe tbody tr th:only-of-type {\n",
       "        vertical-align: middle;\n",
       "    }\n",
       "\n",
       "    .dataframe tbody tr th {\n",
       "        vertical-align: top;\n",
       "    }\n",
       "\n",
       "    .dataframe thead th {\n",
       "        text-align: right;\n",
       "    }\n",
       "</style>\n",
       "<table border=\"1\" class=\"dataframe\">\n",
       "  <thead>\n",
       "    <tr style=\"text-align: right;\">\n",
       "      <th></th>\n",
       "      <th>Number of books read</th>\n",
       "    </tr>\n",
       "    <tr>\n",
       "      <th>Employment</th>\n",
       "      <th></th>\n",
       "    </tr>\n",
       "  </thead>\n",
       "  <tbody>\n",
       "    <tr>\n",
       "      <th>Disabled</th>\n",
       "      <td>17.714286</td>\n",
       "    </tr>\n",
       "    <tr>\n",
       "      <th>Employed full-time</th>\n",
       "      <td>17.420508</td>\n",
       "    </tr>\n",
       "    <tr>\n",
       "      <th>Employed part-time</th>\n",
       "      <td>19.535032</td>\n",
       "    </tr>\n",
       "    <tr>\n",
       "      <th>Have own business/self-employed</th>\n",
       "      <td>22.326087</td>\n",
       "    </tr>\n",
       "    <tr>\n",
       "      <th>Not employed for pay</th>\n",
       "      <td>18.431877</td>\n",
       "    </tr>\n",
       "    <tr>\n",
       "      <th>Retired</th>\n",
       "      <td>24.526096</td>\n",
       "    </tr>\n",
       "    <tr>\n",
       "      <th>Student</th>\n",
       "      <td>16.428571</td>\n",
       "    </tr>\n",
       "  </tbody>\n",
       "</table>\n",
       "</div>"
      ],
      "text/plain": [
       "                                 Number of books read\n",
       "Employment                                           \n",
       "Disabled                                    17.714286\n",
       "Employed full-time                          17.420508\n",
       "Employed part-time                          19.535032\n",
       "Have own business/self-employed             22.326087\n",
       "Not employed for pay                        18.431877\n",
       "Retired                                     24.526096\n",
       "Student                                     16.428571"
      ]
     },
     "execution_count": 43,
     "metadata": {},
     "output_type": "execute_result"
    }
   ],
   "source": [
    "#I use a pivot table to get the values I need (by default the average)\n",
    "df.pivot_table(values = \"Number of books read\", index = \"Employment\")"
   ]
  },
  {
   "cell_type": "code",
   "execution_count": 44,
   "id": "cfecc987",
   "metadata": {},
   "outputs": [
    {
     "data": {
      "image/png": "[encoded data removed]",
      "text/plain": [
       "<Figure size 432x288 with 1 Axes>"
      ]
     },
     "metadata": {},
     "output_type": "display_data"
    }
   ],
   "source": [
    "#use boxplot to graph\n",
    "#use the shorter method to make labels readable\n",
    "sns.boxplot(x = \"Employment\", y = \"Number of books read\", data = df)\n",
    "plt.xticks(rotation = 65, horizontalalignment = \"right\", fontsize = \"x-large\")\n",
    "None\n",
    "#there are a lot of outliers in \"Employed full-time\" column"
   ]
  },
  {
   "cell_type": "code",
   "execution_count": 45,
   "id": "18433b86",
   "metadata": {},
   "outputs": [
    {
     "data": {
      "text/plain": [
       "Employed full-time                 1063\n",
       "Retired                             479\n",
       "Not employed for pay                389\n",
       "Employed part-time                  314\n",
       "Have own business/self-employed      46\n",
       "Disabled                             42\n",
       "Student                              21\n",
       "Name: Employment, dtype: int64"
      ]
     },
     "execution_count": 45,
     "metadata": {},
     "output_type": "execute_result"
    }
   ],
   "source": [
    "#see how many people answered what for Employment\n",
    "df[\"Employment\"].value_counts()"
   ]
  },
  {
   "cell_type": "markdown",
   "id": "1275ce84",
   "metadata": {},
   "source": [
    "Both the pivot table and boxplot show that people that answered \"Retired\" read a lot more on average. This shows that people that have more free time tend to read more. Interesingly, most people in this sample work full-time, but they are among the categories of people that generally don't read that much due to how much they work."
   ]
  },
  {
   "cell_type": "markdown",
   "id": "8a7d2b53",
   "metadata": {},
   "source": [
    "## 8. What is the preferred method of getting a book?"
   ]
  },
  {
   "cell_type": "code",
   "execution_count": 46,
   "id": "d0e019f6",
   "metadata": {},
   "outputs": [
    {
     "data": {
      "text/plain": [
       "Purchased the book                                  1243\n",
       "Borrowed the book from a friend or family member     491\n",
       "Borrowed the book from a library                     319\n",
       "Got the book some other way                          301\n",
       "Name: Method of getting book, dtype: int64"
      ]
     },
     "execution_count": 46,
     "metadata": {},
     "output_type": "execute_result"
    }
   ],
   "source": [
    "#see the number of people that chose each method\n",
    "df[\"Method of getting book\"].value_counts()"
   ]
  },
  {
   "cell_type": "code",
   "execution_count": 47,
   "id": "57b991fa",
   "metadata": {},
   "outputs": [
    {
     "data": {
      "text/html": [
       "<div>\n",
       "<style scoped>\n",
       "    .dataframe tbody tr th:only-of-type {\n",
       "        vertical-align: middle;\n",
       "    }\n",
       "\n",
       "    .dataframe tbody tr th {\n",
       "        vertical-align: top;\n",
       "    }\n",
       "\n",
       "    .dataframe thead th {\n",
       "        text-align: right;\n",
       "    }\n",
       "</style>\n",
       "<table border=\"1\" class=\"dataframe\">\n",
       "  <thead>\n",
       "    <tr style=\"text-align: right;\">\n",
       "      <th></th>\n",
       "      <th>Number of books read</th>\n",
       "    </tr>\n",
       "    <tr>\n",
       "      <th>Method of getting book</th>\n",
       "      <th></th>\n",
       "    </tr>\n",
       "  </thead>\n",
       "  <tbody>\n",
       "    <tr>\n",
       "      <th>Borrowed the book from a friend or family member</th>\n",
       "      <td>14.054990</td>\n",
       "    </tr>\n",
       "    <tr>\n",
       "      <th>Borrowed the book from a library</th>\n",
       "      <td>25.492163</td>\n",
       "    </tr>\n",
       "    <tr>\n",
       "      <th>Got the book some other way</th>\n",
       "      <td>15.617940</td>\n",
       "    </tr>\n",
       "    <tr>\n",
       "      <th>Purchased the book</th>\n",
       "      <td>20.878520</td>\n",
       "    </tr>\n",
       "  </tbody>\n",
       "</table>\n",
       "</div>"
      ],
      "text/plain": [
       "                                                  Number of books read\n",
       "Method of getting book                                                \n",
       "Borrowed the book from a friend or family member             14.054990\n",
       "Borrowed the book from a library                             25.492163\n",
       "Got the book some other way                                  15.617940\n",
       "Purchased the book                                           20.878520"
      ]
     },
     "execution_count": 47,
     "metadata": {},
     "output_type": "execute_result"
    }
   ],
   "source": [
    "#I use a pivot table to see the average of each method\n",
    "df.pivot_table(values = \"Number of books read\", index = \"Method of getting book\")"
   ]
  },
  {
   "cell_type": "code",
   "execution_count": 48,
   "id": "d20acddb",
   "metadata": {},
   "outputs": [
    {
     "data": {
      "image/png": "[encoded data removed]",
      "text/plain": [
       "<Figure size 432x288 with 1 Axes>"
      ]
     },
     "metadata": {},
     "output_type": "display_data"
    }
   ],
   "source": [
    "#plot the data and use the non-object oriented method again for ease\n",
    "sns.barplot(x=\"Method of getting book\", y=\"Number of books read\", data=df)\n",
    "plt.xticks(rotation = 65, horizontalalignment = \"right\", fontsize = \"x-large\")\n",
    "None"
   ]
  },
  {
   "cell_type": "markdown",
   "id": "b187753c",
   "metadata": {},
   "source": [
    "The pivot table and barplot both show that on average, people prefer to borrow the book from the library. Afterwards, they prefer to own the book by purchasing it. However, by counting the values, an overewhelming amount of people have said that they prefer to purchase the book."
   ]
  },
  {
   "cell_type": "markdown",
   "id": "17bb4bc8",
   "metadata": {},
   "source": [
    "### Conclusion:\n",
    "#### 1. Is there a preference for a certain book format based on sex?\n",
    "Yes. Both sexes prefer printed books. \n",
    "\n",
    "#### 2. Does education determine whether a person reads more?\n",
    "Yes, generally the higher the education the more a person reads. \"Post-graduate training/professional school after college\" are the people that tend to read more.\n",
    "\n",
    "#### 3. Does age determine whether a person reads more?¶\n",
    "No. The correlation testing performed determined that there is a weak correlation between the two variables.\n",
    "\n",
    "#### 4. What is the average amount of books read per sex?\n",
    "Females read around 22 books while males read around 16 books.\n",
    "\n",
    "#### 5. Which race tends to read more?\n",
    "People that answered White tend to read more.\n",
    "\n",
    "#### 6. Does income affect the number of printed books read?\n",
    "Yes, people that earn more on average tend to read printed books.\n",
    "\n",
    "#### 7. Does level of employment affect number of books read?\n",
    "Yes, generally people that work less tend to read more. People that read the most answered \"Retired.\"\n",
    "\n",
    "#### 8. What is the preferred method of getting a book?\n",
    "On average, the preferred method is to borrow the book from the library. "
   ]
  },
  {
   "cell_type": "code",
   "execution_count": null,
   "id": "5c9db981",
   "metadata": {},
   "outputs": [],
   "source": []
  }
 ],
 "metadata": {
  "kernelspec": {
   "display_name": "Python 3",
   "language": "python",
   "name": "python3"
  },
  "language_info": {
   "codemirror_mode": {
    "name": "ipython",
    "version": 3
   },
   "file_extension": ".py",
   "mimetype": "text/x-python",
   "name": "python",
   "nbconvert_exporter": "python",
   "pygments_lexer": "ipython3",
   "version": "3.8.8"
  }
 },
 "nbformat": 4,
 "nbformat_minor": 5
}
